{
 "cells": [
  {
   "cell_type": "code",
   "execution_count": 3,
   "id": "6f5df168-75b5-448e-80b0-a05af50badf7",
   "metadata": {},
   "outputs": [
    {
     "name": "stdout",
     "output_type": "stream",
     "text": [
      "robots.txt status: 200\n"
     ]
    },
    {
     "name": "stderr",
     "output_type": "stream",
     "text": [
      "C:\\Users\\moein\\AppData\\Local\\Temp\\ipykernel_19572\\2320400934.py:57: DeprecationWarning: datetime.datetime.utcnow() is deprecated and scheduled for removal in a future version. Use timezone-aware objects to represent datetimes in UTC: datetime.datetime.now(datetime.UTC).\n",
      "  stamp = dt.datetime.utcnow().strftime(\"%Y-%m-%d %H:%M:%S UTC\")\n"
     ]
    },
    {
     "data": {
      "text/plain": [
       "'..\\\\data\\\\raw\\\\key_events_20th_century_raw.txt'"
      ]
     },
     "execution_count": 3,
     "metadata": {},
     "output_type": "execute_result"
    }
   ],
   "source": [
    "# --- Imports ---\n",
    "import os, re, textwrap, datetime as dt\n",
    "import pandas as pd\n",
    "import requests\n",
    "from bs4 import BeautifulSoup\n",
    "\n",
    "# --- Config ---\n",
    "URL = \"https://en.wikipedia.org/wiki/Key_events_of_the_20th_century\"\n",
    "RAW_DIR = os.path.join(\"..\", \"data\", \"raw\")\n",
    "os.makedirs(RAW_DIR, exist_ok=True)\n",
    "\n",
    "# --- Check robots.txt quickly ---\n",
    "robots = requests.get(\"https://en.wikipedia.org/robots.txt\", headers={\"User-Agent\": \"Mozilla/5.0\"})\n",
    "print(\"robots.txt status:\", robots.status_code)\n",
    "\n",
    "# --- Request page with a user-agent to reduce 403 risk ---\n",
    "headers = {\"User-Agent\": \"Mozilla/5.0\"}\n",
    "resp = requests.get(URL, headers=headers, timeout=30)\n",
    "resp.raise_for_status()\n",
    "\n",
    "# --- Parse the article body only (avoid nav/menus) ---\n",
    "soup = BeautifulSoup(resp.text, \"html.parser\")\n",
    "article = soup.select_one(\"div.mw-parser-output\")\n",
    "\n",
    "# Fallback if structure changes\n",
    "if article is None:\n",
    "    article = soup\n",
    "\n",
    "# --- Extract structured text: headings, paragraphs, lists ---\n",
    "parts = []\n",
    "\n",
    "# Headings (for basic structure)\n",
    "for tag in article.select(\"h2, h3, h4\"):\n",
    "    # Wikipedia headings have [edit] spans; strip them\n",
    "    heading = tag.get_text(\" \", strip=True)\n",
    "    heading = re.sub(r\"\\[.*?edit.*?\\]\", \"\", heading, flags=re.I)\n",
    "    parts.append(f\"\\n\\n## {heading}\\n\")\n",
    "\n",
    "# Paragraphs and list items\n",
    "for p in article.select(\"p\"):\n",
    "    txt = p.get_text(\" \", strip=True)\n",
    "    if txt:\n",
    "        parts.append(txt)\n",
    "\n",
    "for li in article.select(\"ul li\"):\n",
    "    txt = li.get_text(\" \", strip=True)\n",
    "    if txt:\n",
    "        parts.append(\"- \" + txt)\n",
    "\n",
    "# --- Join & light clean ---\n",
    "text = \"\\n\".join(parts)\n",
    "# collapse excessive whitespace\n",
    "text = re.sub(r\"[ \\t]+\", \" \", text)\n",
    "text = re.sub(r\"\\n{3,}\", \"\\n\\n\", text).strip()\n",
    "\n",
    "# --- Add provenance & timestamp (for later attribution) ---\n",
    "stamp = dt.datetime.utcnow().strftime(\"%Y-%m-%d %H:%M:%S UTC\")\n",
    "header = textwrap.dedent(f\"\"\"\n",
    "    SOURCE: {URL}\n",
    "    DOWNLOADED: {stamp}\n",
    "    LICENSE: Wikipedia content is under CC BY-SA 4.0.\n",
    "\"\"\").strip()\n",
    "\n",
    "final_text = header + \"\\n\\n\" + text\n",
    "\n",
    "# --- Save to TXT ---\n",
    "out_path = os.path.join(RAW_DIR, \"key_events_20th_century_raw.txt\")\n",
    "with open(out_path, \"w\", encoding=\"utf-8\") as f:\n",
    "    f.write(final_text)\n",
    "\n",
    "out_path"
   ]
  },
  {
   "cell_type": "code",
   "execution_count": 4,
   "id": "2b25e3d0-0fd3-4282-9477-f7bddaa921c4",
   "metadata": {},
   "outputs": [
    {
     "name": "stdout",
     "output_type": "stream",
     "text": [
      "SOURCE: https://en.wikipedia.org/wiki/Key_events_of_the_20th_century\n",
      "DOWNLOADED: 2025-08-18 10:45:33 UTC\n",
      "LICENSE: Wikipedia content is under CC BY-SA 4.0.\n",
      "\n",
      "## Historic events in the 20th century\n",
      "\n",
      "## World at the beginning of the century\n",
      "\n",
      "## \"The war to end all wars\": World War I (1914–1918)\n",
      "\n",
      "## Spanish flu\n",
      "\n",
      "## Russian Revolution and communism\n",
      "\n",
      "## Between the wars\n",
      "\n",
      "## Economic depression\n",
      "\n",
      "## The rise of dictatorship\n",
      "\n",
      "## Global war: World War II (1939–1945)\n",
      "\n",
      "## The war in Europe\n",
      "\n",
      "## Blitzkrieg\n",
      "\n",
      "## Operation Barbarossa\n",
      "\n",
      "## Turning tides\n",
      "\n",
      "## Operation Overlord\n",
      "\n",
      "## Final days\n",
      "\n",
      "## The war in the Pacific\n",
      "\n",
      "## Japanese Expansion\n",
      "\n",
      "## Allied offensive\n",
      "\n",
      "\n"
     ]
    }
   ],
   "source": [
    "with open(out_path, \"r\", encoding=\"utf-8\") as f:\n",
    "    preview = \"\".join([next(f) for _ in range(40)])\n",
    "print(preview)"
   ]
  },
  {
   "cell_type": "code",
   "execution_count": 7,
   "id": "581bc84c-17d1-4326-bb51-0d1fd351384f",
   "metadata": {},
   "outputs": [
    {
     "name": "stdout",
     "output_type": "stream",
     "text": [
      ".\\20th_century_scrape.ipynb\n",
      ".\\key_events_20th_century_raw.txt\n",
      ".\\.ipynb_checkpoints\\20th_century_scrape-checkpoint.ipynb\n",
      ".\\.virtual_documents\\20th_century_scrape.ipynb\n"
     ]
    }
   ],
   "source": [
    "import os\n",
    "\n",
    "# Look for the file we saved\n",
    "for root, dirs, files in os.walk(\".\", topdown=True):\n",
    "    for name in files:\n",
    "        if \"20th_century\" in name:\n",
    "            print(os.path.join(root, name))"
   ]
  },
  {
   "cell_type": "code",
   "execution_count": null,
   "id": "131bb8f5-2452-447f-aeec-0e1a0ec3423b",
   "metadata": {},
   "outputs": [],
   "source": []
  },
  {
   "cell_type": "code",
   "execution_count": null,
   "id": "6d1c5bbc-6e14-43b1-852b-b97c9f4b3547",
   "metadata": {},
   "outputs": [],
   "source": []
  }
 ],
 "metadata": {
  "kernelspec": {
   "display_name": "Python (20th_century)",
   "language": "python",
   "name": "20th_century"
  },
  "language_info": {
   "codemirror_mode": {
    "name": "ipython",
    "version": 3
   },
   "file_extension": ".py",
   "mimetype": "text/x-python",
   "name": "python",
   "nbconvert_exporter": "python",
   "pygments_lexer": "ipython3",
   "version": "3.12.3"
  }
 },
 "nbformat": 4,
 "nbformat_minor": 5
}
