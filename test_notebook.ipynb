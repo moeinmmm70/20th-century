{
 "cells": [
  {
   "cell_type": "code",
   "execution_count": null,
   "id": "b8c762a8-085e-423d-89e1-b5c72e7e8896",
   "metadata": {},
   "outputs": [],
   "source": []
  }
 ],
 "metadata": {
  "kernelspec": {
   "display_name": "",
   "name": ""
  },
  "language_info": {
   "name": ""
  }
 },
 "nbformat": 4,
 "nbformat_minor": 5
}
